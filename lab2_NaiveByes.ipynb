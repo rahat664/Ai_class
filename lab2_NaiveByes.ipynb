{
  "nbformat": 4,
  "nbformat_minor": 0,
  "metadata": {
    "colab": {
      "name": "lab2_NaiveByes.ipynb",
      "provenance": [],
      "collapsed_sections": [],
      "authorship_tag": "ABX9TyOl1tsImiGDvee2I5LsLPm0",
      "include_colab_link": true
    },
    "kernelspec": {
      "name": "python3",
      "display_name": "Python 3"
    },
    "language_info": {
      "name": "python"
    }
  },
  "cells": [
    {
      "cell_type": "markdown",
      "metadata": {
        "id": "view-in-github",
        "colab_type": "text"
      },
      "source": [
        "<a href=\"https://colab.research.google.com/github/rahat664/Ai_class/blob/main/lab2_NaiveByes.ipynb\" target=\"_parent\"><img src=\"https://colab.research.google.com/assets/colab-badge.svg\" alt=\"Open In Colab\"/></a>"
      ]
    },
    {
      "cell_type": "code",
      "execution_count": 4,
      "metadata": {
        "id": "fzCOcQTJeBPU"
      },
      "outputs": [],
      "source": [
        "outlook = ['sunny', 'sunny','overcast','rain','rain','rain','overcast','sunny','sunny','rain','sunny','overcast','overcast','rain']\n",
        "temperature = ['hot','hot','hot','mild','cool','cool','cool','mild','cool','mild','mild','mild','hot','mild']\n",
        "humidity = ['high','high','high','high','normal','normal','normal','high','normal','normal','normal','high','normal','high']\n",
        "windy = ['false','true','false','false','false','true','true','false','false','false','true','true','false','true']\n",
        "Class = ['N','N','P','P','P','N','P','N','P','P','P','P','P','N']\n"
      ]
    },
    {
      "cell_type": "code",
      "source": [
        "from sklearn import preprocessing\n",
        "le = preprocessing.LabelEncoder()\n",
        "weather_encoded = le.fit_transform(outlook)\n",
        "print(weather_encoded)\n",
        "temperature_encoded = le.fit_transform(humidity)\n",
        "print(temperature_encoded)\n",
        "humidity_encoded = le.fit_transform(humidity)\n",
        "print(humidity_encoded)\n",
        "windy_encoded = le.fit_transform(windy)\n",
        "print(windy_encoded)\n",
        "Class_encoded = le.fit_transform(Class)\n",
        "print(Class_encoded)"
      ],
      "metadata": {
        "colab": {
          "base_uri": "https://localhost:8080/"
        },
        "id": "oZ_nQuZ2j3sy",
        "outputId": "522ffce5-2b49-40dc-b973-56c37a002916"
      },
      "execution_count": 7,
      "outputs": [
        {
          "output_type": "stream",
          "name": "stdout",
          "text": [
            "[2 2 0 1 1 1 0 2 2 1 2 0 0 1]\n",
            "[0 0 0 0 1 1 1 0 1 1 1 0 1 0]\n",
            "[0 0 0 0 1 1 1 0 1 1 1 0 1 0]\n",
            "[0 1 0 0 0 1 1 0 0 0 1 1 0 1]\n",
            "[0 0 1 1 1 0 1 0 1 1 1 1 1 0]\n"
          ]
        }
      ]
    },
    {
      "cell_type": "code",
      "source": [
        "c = lambda weather_encoded, temperature_encoded, humidity_encoded, windy_encoded : [list(c) for c in zip(weather_encoded,temperature_encoded, humidity_encoded, windy_encoded)]\n",
        "features = c(weather_encoded, temperature_encoded, humidity_encoded, humidity_encoded)\n",
        "print(list(features))"
      ],
      "metadata": {
        "colab": {
          "base_uri": "https://localhost:8080/"
        },
        "id": "6P7jKzfzmT8i",
        "outputId": "89f087a0-1f7d-42e6-ce82-ab47aa2c3555"
      },
      "execution_count": 8,
      "outputs": [
        {
          "output_type": "stream",
          "name": "stdout",
          "text": [
            "[[2, 0, 0, 0], [2, 0, 0, 0], [0, 0, 0, 0], [1, 0, 0, 0], [1, 1, 1, 1], [1, 1, 1, 1], [0, 1, 1, 1], [2, 0, 0, 0], [2, 1, 1, 1], [1, 1, 1, 1], [2, 1, 1, 1], [0, 0, 0, 0], [0, 1, 1, 1], [1, 0, 0, 0]]\n"
          ]
        }
      ]
    },
    {
      "cell_type": "code",
      "source": [
        "from sklearn.naive_bayes import GaussianNB\n",
        "model = GaussianNB()\n",
        "\n",
        "model.fit(features, Class_encoded)\n",
        "\n",
        "predicted = model.predict([[2,2,0,1]])\n",
        "print('Predicted Value:', predicted)\n",
        "\n",
        "if predicted == 1:\n",
        "  print('Himel fail')\n",
        "else:\n",
        "  print('Himel pass')"
      ],
      "metadata": {
        "colab": {
          "base_uri": "https://localhost:8080/"
        },
        "id": "n8dfqPSTokub",
        "outputId": "8cf78553-99b4-4a6e-b950-79b6a4407a58"
      },
      "execution_count": 17,
      "outputs": [
        {
          "output_type": "stream",
          "name": "stdout",
          "text": [
            "Predicted Value: [1]\n",
            "Himel fail\n"
          ]
        }
      ]
    }
  ]
}